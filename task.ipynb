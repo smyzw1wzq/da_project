{
 "cells": [
  {
   "cell_type": "markdown",
   "metadata": {
    "id": "5tUF0ZVn60YW"
   },
   "source": [
    "Read the data"
   ]
  },
  {
   "cell_type": "code",
   "execution_count": 1,
   "metadata": {
    "id": "a4KewPvM60YX"
   },
   "outputs": [],
   "source": [
    "import pandas as pd  \n",
    "import re"
   ]
  },
  {
   "cell_type": "code",
   "execution_count": 15,
   "metadata": {
    "colab": {
     "base_uri": "https://localhost:8080/",
     "height": 206
    },
    "id": "marRa1C560YX",
    "outputId": "ff50888c-355f-438b-935d-218bc2844aba"
   },
   "outputs": [],
   "source": [
    "df = pd.read_excel('NZ_Admin_JOBS.xlsx')"
   ]
  },
  {
   "cell_type": "code",
   "execution_count": 16,
   "metadata": {},
   "outputs": [
    {
     "data": {
      "text/html": [
       "<div>\n",
       "<style scoped>\n",
       "    .dataframe tbody tr th:only-of-type {\n",
       "        vertical-align: middle;\n",
       "    }\n",
       "\n",
       "    .dataframe tbody tr th {\n",
       "        vertical-align: top;\n",
       "    }\n",
       "\n",
       "    .dataframe thead th {\n",
       "        text-align: right;\n",
       "    }\n",
       "</style>\n",
       "<table border=\"1\" class=\"dataframe\">\n",
       "  <thead>\n",
       "    <tr style=\"text-align: right;\">\n",
       "      <th></th>\n",
       "      <th>字段1</th>\n",
       "      <th>字段1_link</th>\n",
       "      <th>字段2</th>\n",
       "      <th>字段3</th>\n",
       "      <th>字段4</th>\n",
       "      <th>字段5</th>\n",
       "    </tr>\n",
       "  </thead>\n",
       "  <tbody>\n",
       "    <tr>\n",
       "      <th>0</th>\n",
       "      <td>Administrator</td>\n",
       "      <td>https://www.seek.co.nz/job/50582301?type=promo...</td>\n",
       "      <td>NaN</td>\n",
       "      <td>location: Bay of PlentyBay of Plentyarea: Taur...</td>\n",
       "      <td>Featured,at,Private Advertiser</td>\n",
       "      <td>classification: Administration &amp; Office Suppor...</td>\n",
       "    </tr>\n",
       "    <tr>\n",
       "      <th>1</th>\n",
       "      <td>Receptionist</td>\n",
       "      <td>https://www.seek.co.nz/job/50620889?type=promo...</td>\n",
       "      <td>Avenues Orthodontics</td>\n",
       "      <td>location: Bay of PlentyBay of Plentyarea: Taur...</td>\n",
       "      <td>Featured,at</td>\n",
       "      <td>classification: Administration &amp; Office Suppor...</td>\n",
       "    </tr>\n",
       "    <tr>\n",
       "      <th>2</th>\n",
       "      <td>Prosecutions Support Officer</td>\n",
       "      <td>https://www.seek.co.nz/job/50622169?type=stand...</td>\n",
       "      <td>New Zealand Police</td>\n",
       "      <td>location: AucklandAuckland</td>\n",
       "      <td>4d ago,at</td>\n",
       "      <td>classification: Administration &amp; Office Suppor...</td>\n",
       "    </tr>\n",
       "    <tr>\n",
       "      <th>3</th>\n",
       "      <td>Early Childhood Centre Administrator</td>\n",
       "      <td>https://www.seek.co.nz/job/50639620?type=stand...</td>\n",
       "      <td>Kew Pacific Island Early Learning Centre</td>\n",
       "      <td>location: SouthlandSouthlandarea: Invercargill...</td>\n",
       "      <td>1h ago,at</td>\n",
       "      <td>classification: Administration &amp; Office Suppor...</td>\n",
       "    </tr>\n",
       "    <tr>\n",
       "      <th>4</th>\n",
       "      <td>Business Support Administrator</td>\n",
       "      <td>https://www.seek.co.nz/job/50622432?type=stand...</td>\n",
       "      <td>NaN</td>\n",
       "      <td>location: CanterburyCanterburyarea: Christchur...</td>\n",
       "      <td>4d ago,at,Private Advertiser</td>\n",
       "      <td>classification: Administration &amp; Office Suppor...</td>\n",
       "    </tr>\n",
       "  </tbody>\n",
       "</table>\n",
       "</div>"
      ],
      "text/plain": [
       "                                    字段1  \\\n",
       "0                         Administrator   \n",
       "1                          Receptionist   \n",
       "2          Prosecutions Support Officer   \n",
       "3  Early Childhood Centre Administrator   \n",
       "4        Business Support Administrator   \n",
       "\n",
       "                                            字段1_link  \\\n",
       "0  https://www.seek.co.nz/job/50582301?type=promo...   \n",
       "1  https://www.seek.co.nz/job/50620889?type=promo...   \n",
       "2  https://www.seek.co.nz/job/50622169?type=stand...   \n",
       "3  https://www.seek.co.nz/job/50639620?type=stand...   \n",
       "4  https://www.seek.co.nz/job/50622432?type=stand...   \n",
       "\n",
       "                                        字段2  \\\n",
       "0                                       NaN   \n",
       "1                      Avenues Orthodontics   \n",
       "2                        New Zealand Police   \n",
       "3  Kew Pacific Island Early Learning Centre   \n",
       "4                                       NaN   \n",
       "\n",
       "                                                 字段3  \\\n",
       "0  location: Bay of PlentyBay of Plentyarea: Taur...   \n",
       "1  location: Bay of PlentyBay of Plentyarea: Taur...   \n",
       "2                         location: AucklandAuckland   \n",
       "3  location: SouthlandSouthlandarea: Invercargill...   \n",
       "4  location: CanterburyCanterburyarea: Christchur...   \n",
       "\n",
       "                              字段4  \\\n",
       "0  Featured,at,Private Advertiser   \n",
       "1                     Featured,at   \n",
       "2                       4d ago,at   \n",
       "3                       1h ago,at   \n",
       "4    4d ago,at,Private Advertiser   \n",
       "\n",
       "                                                 字段5  \n",
       "0  classification: Administration & Office Suppor...  \n",
       "1  classification: Administration & Office Suppor...  \n",
       "2  classification: Administration & Office Suppor...  \n",
       "3  classification: Administration & Office Suppor...  \n",
       "4  classification: Administration & Office Suppor...  "
      ]
     },
     "execution_count": 16,
     "metadata": {},
     "output_type": "execute_result"
    }
   ],
   "source": [
    "df.head()"
   ]
  },
  {
   "cell_type": "markdown",
   "metadata": {
    "id": "NQvszqzs60YX"
   },
   "source": [
    "The column are job position, job link, company name, company location, publish date, job classificat/ salary"
   ]
  },
  {
   "cell_type": "markdown",
   "metadata": {},
   "source": [
    "According to the data, we can analyze the demand for the job, company hire trend, job publish date trends, job post duration and demand for the company relate location."
   ]
  },
  {
   "cell_type": "code",
   "execution_count": 17,
   "metadata": {},
   "outputs": [],
   "source": [
    "df.columns = ['Job_Position', 'Job_Link', 'Company_Name', 'Company_Location', 'Publish_Date', 'Classification']\n"
   ]
  },
  {
   "cell_type": "code",
   "execution_count": 18,
   "metadata": {},
   "outputs": [
    {
     "data": {
      "text/html": [
       "<div>\n",
       "<style scoped>\n",
       "    .dataframe tbody tr th:only-of-type {\n",
       "        vertical-align: middle;\n",
       "    }\n",
       "\n",
       "    .dataframe tbody tr th {\n",
       "        vertical-align: top;\n",
       "    }\n",
       "\n",
       "    .dataframe thead th {\n",
       "        text-align: right;\n",
       "    }\n",
       "</style>\n",
       "<table border=\"1\" class=\"dataframe\">\n",
       "  <thead>\n",
       "    <tr style=\"text-align: right;\">\n",
       "      <th></th>\n",
       "      <th>Job_Position</th>\n",
       "      <th>Job_Link</th>\n",
       "      <th>Company_Name</th>\n",
       "      <th>Company_Location</th>\n",
       "      <th>Publish_Date</th>\n",
       "      <th>Classification</th>\n",
       "    </tr>\n",
       "  </thead>\n",
       "  <tbody>\n",
       "    <tr>\n",
       "      <th>0</th>\n",
       "      <td>Administrator</td>\n",
       "      <td>https://www.seek.co.nz/job/50582301?type=promo...</td>\n",
       "      <td>NaN</td>\n",
       "      <td>location: Bay of PlentyBay of Plentyarea: Taur...</td>\n",
       "      <td>Featured,at,Private Advertiser</td>\n",
       "      <td>classification: Administration &amp; Office Suppor...</td>\n",
       "    </tr>\n",
       "    <tr>\n",
       "      <th>1</th>\n",
       "      <td>Receptionist</td>\n",
       "      <td>https://www.seek.co.nz/job/50620889?type=promo...</td>\n",
       "      <td>Avenues Orthodontics</td>\n",
       "      <td>location: Bay of PlentyBay of Plentyarea: Taur...</td>\n",
       "      <td>Featured,at</td>\n",
       "      <td>classification: Administration &amp; Office Suppor...</td>\n",
       "    </tr>\n",
       "    <tr>\n",
       "      <th>2</th>\n",
       "      <td>Prosecutions Support Officer</td>\n",
       "      <td>https://www.seek.co.nz/job/50622169?type=stand...</td>\n",
       "      <td>New Zealand Police</td>\n",
       "      <td>location: AucklandAuckland</td>\n",
       "      <td>4d ago,at</td>\n",
       "      <td>classification: Administration &amp; Office Suppor...</td>\n",
       "    </tr>\n",
       "    <tr>\n",
       "      <th>3</th>\n",
       "      <td>Early Childhood Centre Administrator</td>\n",
       "      <td>https://www.seek.co.nz/job/50639620?type=stand...</td>\n",
       "      <td>Kew Pacific Island Early Learning Centre</td>\n",
       "      <td>location: SouthlandSouthlandarea: Invercargill...</td>\n",
       "      <td>1h ago,at</td>\n",
       "      <td>classification: Administration &amp; Office Suppor...</td>\n",
       "    </tr>\n",
       "    <tr>\n",
       "      <th>4</th>\n",
       "      <td>Business Support Administrator</td>\n",
       "      <td>https://www.seek.co.nz/job/50622432?type=stand...</td>\n",
       "      <td>NaN</td>\n",
       "      <td>location: CanterburyCanterburyarea: Christchur...</td>\n",
       "      <td>4d ago,at,Private Advertiser</td>\n",
       "      <td>classification: Administration &amp; Office Suppor...</td>\n",
       "    </tr>\n",
       "  </tbody>\n",
       "</table>\n",
       "</div>"
      ],
      "text/plain": [
       "                           Job_Position  \\\n",
       "0                         Administrator   \n",
       "1                          Receptionist   \n",
       "2          Prosecutions Support Officer   \n",
       "3  Early Childhood Centre Administrator   \n",
       "4        Business Support Administrator   \n",
       "\n",
       "                                            Job_Link  \\\n",
       "0  https://www.seek.co.nz/job/50582301?type=promo...   \n",
       "1  https://www.seek.co.nz/job/50620889?type=promo...   \n",
       "2  https://www.seek.co.nz/job/50622169?type=stand...   \n",
       "3  https://www.seek.co.nz/job/50639620?type=stand...   \n",
       "4  https://www.seek.co.nz/job/50622432?type=stand...   \n",
       "\n",
       "                               Company_Name  \\\n",
       "0                                       NaN   \n",
       "1                      Avenues Orthodontics   \n",
       "2                        New Zealand Police   \n",
       "3  Kew Pacific Island Early Learning Centre   \n",
       "4                                       NaN   \n",
       "\n",
       "                                    Company_Location  \\\n",
       "0  location: Bay of PlentyBay of Plentyarea: Taur...   \n",
       "1  location: Bay of PlentyBay of Plentyarea: Taur...   \n",
       "2                         location: AucklandAuckland   \n",
       "3  location: SouthlandSouthlandarea: Invercargill...   \n",
       "4  location: CanterburyCanterburyarea: Christchur...   \n",
       "\n",
       "                     Publish_Date  \\\n",
       "0  Featured,at,Private Advertiser   \n",
       "1                     Featured,at   \n",
       "2                       4d ago,at   \n",
       "3                       1h ago,at   \n",
       "4    4d ago,at,Private Advertiser   \n",
       "\n",
       "                                      Classification  \n",
       "0  classification: Administration & Office Suppor...  \n",
       "1  classification: Administration & Office Suppor...  \n",
       "2  classification: Administration & Office Suppor...  \n",
       "3  classification: Administration & Office Suppor...  \n",
       "4  classification: Administration & Office Suppor...  "
      ]
     },
     "execution_count": 18,
     "metadata": {},
     "output_type": "execute_result"
    }
   ],
   "source": [
    "df.head()"
   ]
  },
  {
   "cell_type": "code",
   "execution_count": 19,
   "metadata": {
    "colab": {
     "base_uri": "https://localhost:8080/"
    },
    "id": "cTeBg9ru60YY",
    "outputId": "07752f06-66a7-4221-ca7f-c4d18493fa41"
   },
   "outputs": [
    {
     "data": {
      "text/plain": [
       "0    location: Bay of PlentyBay of Plentyarea: Taur...\n",
       "1    location: Bay of PlentyBay of Plentyarea: Taur...\n",
       "2                           location: AucklandAuckland\n",
       "3    location: SouthlandSouthlandarea: Invercargill...\n",
       "4    location: CanterburyCanterburyarea: Christchur...\n",
       "Name: Company_Location, dtype: object"
      ]
     },
     "execution_count": 19,
     "metadata": {},
     "output_type": "execute_result"
    }
   ],
   "source": [
    "df['Company_Location'].head()"
   ]
  },
  {
   "cell_type": "code",
   "execution_count": 20,
   "metadata": {
    "colab": {
     "base_uri": "https://localhost:8080/"
    },
    "id": "7s-lqq5G60YY",
    "outputId": "f2c8305f-0c20-447a-d2df-f1ca69e519e7"
   },
   "outputs": [],
   "source": [
    "df['Region'] = df['Company_Location'].str.extract(r'location: ([a-zA-Z\\s]+?)(?:area|$)')\n",
    "df['Area'] = df['Company_Location'].str.extract(r'area: ([a-zA-Z\\s]+)')"
   ]
  },
  {
   "cell_type": "code",
   "execution_count": 21,
   "metadata": {
    "id": "NJzT3igiUUTL"
   },
   "outputs": [
    {
     "data": {
      "text/plain": [
       "0    Bay of PlentyBay of Plenty\n",
       "1    Bay of PlentyBay of Plenty\n",
       "2              AucklandAuckland\n",
       "3            SouthlandSouthland\n",
       "4          CanterburyCanterbury\n",
       "Name: Region, dtype: object"
      ]
     },
     "execution_count": 21,
     "metadata": {},
     "output_type": "execute_result"
    }
   ],
   "source": [
    "df['Region'].head()"
   ]
  },
  {
   "cell_type": "code",
   "execution_count": 22,
   "metadata": {},
   "outputs": [
    {
     "data": {
      "text/plain": [
       "0                           TaurangaTauranga\n",
       "1                           TaurangaTauranga\n",
       "2                                        NaN\n",
       "3                   InvercargillInvercargill\n",
       "4                   ChristchurchChristchurch\n",
       "                        ...                 \n",
       "2703        Auckland CentralAuckland Central\n",
       "2704    Wellington CentralWellington Central\n",
       "2705                        HamiltonHamilton\n",
       "2706                        HamiltonHamilton\n",
       "2707                                     NaN\n",
       "Name: Area, Length: 2708, dtype: object"
      ]
     },
     "execution_count": 22,
     "metadata": {},
     "output_type": "execute_result"
    }
   ],
   "source": [
    "df['Area']"
   ]
  },
  {
   "cell_type": "code",
   "execution_count": 10,
   "metadata": {},
   "outputs": [],
   "source": [
    "def parse_publish_date(info):\n",
    "    featured_match = re.search(r'Featured', info)\n",
    "    days_ago_match = re.search(r'(\\d+)d ago', info)\n",
    "    hours_ago_match = re.search(r'(\\d+)h ago', info)\n",
    "    \n",
    "    if featured_match:\n",
    "        return 'Featured'\n",
    "    elif days_ago_match:\n",
    "        return f\"{days_ago_match.group(1)}d ago\"\n",
    "    elif hours_ago_match:\n",
    "        return f\"{hours_ago_match.group(1)}h ago\"\n",
    "    else:\n",
    "        return None"
   ]
  },
  {
   "cell_type": "code",
   "execution_count": 11,
   "metadata": {},
   "outputs": [],
   "source": [
    "df['Publish_Date'] = df['Publish_Date'].apply(parse_publish_date)"
   ]
  },
  {
   "cell_type": "code",
   "execution_count": 12,
   "metadata": {},
   "outputs": [
    {
     "data": {
      "text/plain": [
       "0       Featured\n",
       "1       Featured\n",
       "2         4d ago\n",
       "3         1h ago\n",
       "4         4d ago\n",
       "          ...   \n",
       "2703     27d ago\n",
       "2704     27d ago\n",
       "2705     20d ago\n",
       "2706     28d ago\n",
       "2707     26d ago\n",
       "Name: Publish_Date, Length: 2708, dtype: object"
      ]
     },
     "execution_count": 12,
     "metadata": {},
     "output_type": "execute_result"
    }
   ],
   "source": [
    "df['Publish_Date']"
   ]
  },
  {
   "cell_type": "code",
   "execution_count": 23,
   "metadata": {},
   "outputs": [
    {
     "data": {
      "text/html": [
       "<div>\n",
       "<style scoped>\n",
       "    .dataframe tbody tr th:only-of-type {\n",
       "        vertical-align: middle;\n",
       "    }\n",
       "\n",
       "    .dataframe tbody tr th {\n",
       "        vertical-align: top;\n",
       "    }\n",
       "\n",
       "    .dataframe thead th {\n",
       "        text-align: right;\n",
       "    }\n",
       "</style>\n",
       "<table border=\"1\" class=\"dataframe\">\n",
       "  <thead>\n",
       "    <tr style=\"text-align: right;\">\n",
       "      <th></th>\n",
       "      <th>Job_Position</th>\n",
       "      <th>Job_Link</th>\n",
       "      <th>Company_Name</th>\n",
       "      <th>Company_Location</th>\n",
       "      <th>Publish_Date</th>\n",
       "      <th>Classification</th>\n",
       "      <th>Region</th>\n",
       "      <th>Area</th>\n",
       "    </tr>\n",
       "  </thead>\n",
       "  <tbody>\n",
       "    <tr>\n",
       "      <th>0</th>\n",
       "      <td>Administrator</td>\n",
       "      <td>https://www.seek.co.nz/job/50582301?type=promo...</td>\n",
       "      <td>NaN</td>\n",
       "      <td>location: Bay of PlentyBay of Plentyarea: Taur...</td>\n",
       "      <td>Featured,at,Private Advertiser</td>\n",
       "      <td>classification: Administration &amp; Office Suppor...</td>\n",
       "      <td>Bay of PlentyBay of Plenty</td>\n",
       "      <td>TaurangaTauranga</td>\n",
       "    </tr>\n",
       "    <tr>\n",
       "      <th>1</th>\n",
       "      <td>Receptionist</td>\n",
       "      <td>https://www.seek.co.nz/job/50620889?type=promo...</td>\n",
       "      <td>Avenues Orthodontics</td>\n",
       "      <td>location: Bay of PlentyBay of Plentyarea: Taur...</td>\n",
       "      <td>Featured,at</td>\n",
       "      <td>classification: Administration &amp; Office Suppor...</td>\n",
       "      <td>Bay of PlentyBay of Plenty</td>\n",
       "      <td>TaurangaTauranga</td>\n",
       "    </tr>\n",
       "    <tr>\n",
       "      <th>2</th>\n",
       "      <td>Prosecutions Support Officer</td>\n",
       "      <td>https://www.seek.co.nz/job/50622169?type=stand...</td>\n",
       "      <td>New Zealand Police</td>\n",
       "      <td>location: AucklandAuckland</td>\n",
       "      <td>4d ago,at</td>\n",
       "      <td>classification: Administration &amp; Office Suppor...</td>\n",
       "      <td>AucklandAuckland</td>\n",
       "      <td>NaN</td>\n",
       "    </tr>\n",
       "    <tr>\n",
       "      <th>3</th>\n",
       "      <td>Early Childhood Centre Administrator</td>\n",
       "      <td>https://www.seek.co.nz/job/50639620?type=stand...</td>\n",
       "      <td>Kew Pacific Island Early Learning Centre</td>\n",
       "      <td>location: SouthlandSouthlandarea: Invercargill...</td>\n",
       "      <td>1h ago,at</td>\n",
       "      <td>classification: Administration &amp; Office Suppor...</td>\n",
       "      <td>SouthlandSouthland</td>\n",
       "      <td>InvercargillInvercargill</td>\n",
       "    </tr>\n",
       "    <tr>\n",
       "      <th>4</th>\n",
       "      <td>Business Support Administrator</td>\n",
       "      <td>https://www.seek.co.nz/job/50622432?type=stand...</td>\n",
       "      <td>NaN</td>\n",
       "      <td>location: CanterburyCanterburyarea: Christchur...</td>\n",
       "      <td>4d ago,at,Private Advertiser</td>\n",
       "      <td>classification: Administration &amp; Office Suppor...</td>\n",
       "      <td>CanterburyCanterbury</td>\n",
       "      <td>ChristchurchChristchurch</td>\n",
       "    </tr>\n",
       "  </tbody>\n",
       "</table>\n",
       "</div>"
      ],
      "text/plain": [
       "                           Job_Position  \\\n",
       "0                         Administrator   \n",
       "1                          Receptionist   \n",
       "2          Prosecutions Support Officer   \n",
       "3  Early Childhood Centre Administrator   \n",
       "4        Business Support Administrator   \n",
       "\n",
       "                                            Job_Link  \\\n",
       "0  https://www.seek.co.nz/job/50582301?type=promo...   \n",
       "1  https://www.seek.co.nz/job/50620889?type=promo...   \n",
       "2  https://www.seek.co.nz/job/50622169?type=stand...   \n",
       "3  https://www.seek.co.nz/job/50639620?type=stand...   \n",
       "4  https://www.seek.co.nz/job/50622432?type=stand...   \n",
       "\n",
       "                               Company_Name  \\\n",
       "0                                       NaN   \n",
       "1                      Avenues Orthodontics   \n",
       "2                        New Zealand Police   \n",
       "3  Kew Pacific Island Early Learning Centre   \n",
       "4                                       NaN   \n",
       "\n",
       "                                    Company_Location  \\\n",
       "0  location: Bay of PlentyBay of Plentyarea: Taur...   \n",
       "1  location: Bay of PlentyBay of Plentyarea: Taur...   \n",
       "2                         location: AucklandAuckland   \n",
       "3  location: SouthlandSouthlandarea: Invercargill...   \n",
       "4  location: CanterburyCanterburyarea: Christchur...   \n",
       "\n",
       "                     Publish_Date  \\\n",
       "0  Featured,at,Private Advertiser   \n",
       "1                     Featured,at   \n",
       "2                       4d ago,at   \n",
       "3                       1h ago,at   \n",
       "4    4d ago,at,Private Advertiser   \n",
       "\n",
       "                                      Classification  \\\n",
       "0  classification: Administration & Office Suppor...   \n",
       "1  classification: Administration & Office Suppor...   \n",
       "2  classification: Administration & Office Suppor...   \n",
       "3  classification: Administration & Office Suppor...   \n",
       "4  classification: Administration & Office Suppor...   \n",
       "\n",
       "                       Region                      Area  \n",
       "0  Bay of PlentyBay of Plenty          TaurangaTauranga  \n",
       "1  Bay of PlentyBay of Plenty          TaurangaTauranga  \n",
       "2            AucklandAuckland                       NaN  \n",
       "3          SouthlandSouthland  InvercargillInvercargill  \n",
       "4        CanterburyCanterbury  ChristchurchChristchurch  "
      ]
     },
     "execution_count": 23,
     "metadata": {},
     "output_type": "execute_result"
    }
   ],
   "source": [
    "df.head()"
   ]
  },
  {
   "cell_type": "code",
   "execution_count": 24,
   "metadata": {},
   "outputs": [],
   "source": [
    "df['Classification'] = df['Classification'].str.extract(r'classification: ([a-zA-Z\\s&]+)')"
   ]
  },
  {
   "cell_type": "code",
   "execution_count": 26,
   "metadata": {},
   "outputs": [],
   "source": [
    "df.drop('Company_Location', axis=1, inplace=True)"
   ]
  },
  {
   "cell_type": "code",
   "execution_count": 27,
   "metadata": {},
   "outputs": [
    {
     "data": {
      "text/html": [
       "<div>\n",
       "<style scoped>\n",
       "    .dataframe tbody tr th:only-of-type {\n",
       "        vertical-align: middle;\n",
       "    }\n",
       "\n",
       "    .dataframe tbody tr th {\n",
       "        vertical-align: top;\n",
       "    }\n",
       "\n",
       "    .dataframe thead th {\n",
       "        text-align: right;\n",
       "    }\n",
       "</style>\n",
       "<table border=\"1\" class=\"dataframe\">\n",
       "  <thead>\n",
       "    <tr style=\"text-align: right;\">\n",
       "      <th></th>\n",
       "      <th>Job_Position</th>\n",
       "      <th>Job_Link</th>\n",
       "      <th>Company_Name</th>\n",
       "      <th>Publish_Date</th>\n",
       "      <th>Classification</th>\n",
       "      <th>Region</th>\n",
       "      <th>Area</th>\n",
       "    </tr>\n",
       "  </thead>\n",
       "  <tbody>\n",
       "    <tr>\n",
       "      <th>0</th>\n",
       "      <td>Administrator</td>\n",
       "      <td>https://www.seek.co.nz/job/50582301?type=promo...</td>\n",
       "      <td>NaN</td>\n",
       "      <td>Featured,at,Private Advertiser</td>\n",
       "      <td>Administration &amp; Office SupportAdministration ...</td>\n",
       "      <td>Bay of PlentyBay of Plenty</td>\n",
       "      <td>TaurangaTauranga</td>\n",
       "    </tr>\n",
       "    <tr>\n",
       "      <th>1</th>\n",
       "      <td>Receptionist</td>\n",
       "      <td>https://www.seek.co.nz/job/50620889?type=promo...</td>\n",
       "      <td>Avenues Orthodontics</td>\n",
       "      <td>Featured,at</td>\n",
       "      <td>Administration &amp; Office SupportAdministration ...</td>\n",
       "      <td>Bay of PlentyBay of Plenty</td>\n",
       "      <td>TaurangaTauranga</td>\n",
       "    </tr>\n",
       "    <tr>\n",
       "      <th>2</th>\n",
       "      <td>Prosecutions Support Officer</td>\n",
       "      <td>https://www.seek.co.nz/job/50622169?type=stand...</td>\n",
       "      <td>New Zealand Police</td>\n",
       "      <td>4d ago,at</td>\n",
       "      <td>Administration &amp; Office SupportAdministration ...</td>\n",
       "      <td>AucklandAuckland</td>\n",
       "      <td>NaN</td>\n",
       "    </tr>\n",
       "    <tr>\n",
       "      <th>3</th>\n",
       "      <td>Early Childhood Centre Administrator</td>\n",
       "      <td>https://www.seek.co.nz/job/50639620?type=stand...</td>\n",
       "      <td>Kew Pacific Island Early Learning Centre</td>\n",
       "      <td>1h ago,at</td>\n",
       "      <td>Administration &amp; Office SupportAdministration ...</td>\n",
       "      <td>SouthlandSouthland</td>\n",
       "      <td>InvercargillInvercargill</td>\n",
       "    </tr>\n",
       "    <tr>\n",
       "      <th>4</th>\n",
       "      <td>Business Support Administrator</td>\n",
       "      <td>https://www.seek.co.nz/job/50622432?type=stand...</td>\n",
       "      <td>NaN</td>\n",
       "      <td>4d ago,at,Private Advertiser</td>\n",
       "      <td>Administration &amp; Office SupportAdministration ...</td>\n",
       "      <td>CanterburyCanterbury</td>\n",
       "      <td>ChristchurchChristchurch</td>\n",
       "    </tr>\n",
       "  </tbody>\n",
       "</table>\n",
       "</div>"
      ],
      "text/plain": [
       "                           Job_Position  \\\n",
       "0                         Administrator   \n",
       "1                          Receptionist   \n",
       "2          Prosecutions Support Officer   \n",
       "3  Early Childhood Centre Administrator   \n",
       "4        Business Support Administrator   \n",
       "\n",
       "                                            Job_Link  \\\n",
       "0  https://www.seek.co.nz/job/50582301?type=promo...   \n",
       "1  https://www.seek.co.nz/job/50620889?type=promo...   \n",
       "2  https://www.seek.co.nz/job/50622169?type=stand...   \n",
       "3  https://www.seek.co.nz/job/50639620?type=stand...   \n",
       "4  https://www.seek.co.nz/job/50622432?type=stand...   \n",
       "\n",
       "                               Company_Name                    Publish_Date  \\\n",
       "0                                       NaN  Featured,at,Private Advertiser   \n",
       "1                      Avenues Orthodontics                     Featured,at   \n",
       "2                        New Zealand Police                       4d ago,at   \n",
       "3  Kew Pacific Island Early Learning Centre                       1h ago,at   \n",
       "4                                       NaN    4d ago,at,Private Advertiser   \n",
       "\n",
       "                                      Classification  \\\n",
       "0  Administration & Office SupportAdministration ...   \n",
       "1  Administration & Office SupportAdministration ...   \n",
       "2  Administration & Office SupportAdministration ...   \n",
       "3  Administration & Office SupportAdministration ...   \n",
       "4  Administration & Office SupportAdministration ...   \n",
       "\n",
       "                       Region                      Area  \n",
       "0  Bay of PlentyBay of Plenty          TaurangaTauranga  \n",
       "1  Bay of PlentyBay of Plenty          TaurangaTauranga  \n",
       "2            AucklandAuckland                       NaN  \n",
       "3          SouthlandSouthland  InvercargillInvercargill  \n",
       "4        CanterburyCanterbury  ChristchurchChristchurch  "
      ]
     },
     "execution_count": 27,
     "metadata": {},
     "output_type": "execute_result"
    }
   ],
   "source": [
    "df.head()"
   ]
  },
  {
   "cell_type": "code",
   "execution_count": null,
   "metadata": {},
   "outputs": [],
   "source": []
  },
  {
   "cell_type": "code",
   "execution_count": null,
   "metadata": {},
   "outputs": [],
   "source": []
  },
  {
   "cell_type": "code",
   "execution_count": null,
   "metadata": {},
   "outputs": [],
   "source": []
  },
  {
   "cell_type": "code",
   "execution_count": null,
   "metadata": {},
   "outputs": [],
   "source": []
  }
 ],
 "metadata": {
  "anaconda-cloud": {},
  "colab": {
   "name": "Tutorial_1A_Getting_started_tutorial (1).ipynb",
   "provenance": []
  },
  "kernelspec": {
   "display_name": "Python 3 (ipykernel)",
   "language": "python",
   "name": "python3"
  },
  "language_info": {
   "codemirror_mode": {
    "name": "ipython",
    "version": 3
   },
   "file_extension": ".py",
   "mimetype": "text/x-python",
   "name": "python",
   "nbconvert_exporter": "python",
   "pygments_lexer": "ipython3",
   "version": "3.9.7"
  }
 },
 "nbformat": 4,
 "nbformat_minor": 1
}
